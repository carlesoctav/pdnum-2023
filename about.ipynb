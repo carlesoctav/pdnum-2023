{
  "cells": [
    {
      "cell_type": "code",
      "metadata": {},
      "source": [
        "fib = ones(1, 10);\n",
        "i = 3;\n",
        "while i <= 10\n",
        "  fib(i) = fib(i – 1) + fib(i – 2);\n",
        "  i++;\n",
        "endwhile\n",
        "disp(fib)\n"
      ],
      "id": "136a1d34",
      "execution_count": null,
      "outputs": []
    }
  ],
  "metadata": {
    "kernelspec": {
      "name": "python3",
      "language": "python",
      "display_name": "Python 3 (ipykernel)"
    }
  },
  "nbformat": 4,
  "nbformat_minor": 5
}